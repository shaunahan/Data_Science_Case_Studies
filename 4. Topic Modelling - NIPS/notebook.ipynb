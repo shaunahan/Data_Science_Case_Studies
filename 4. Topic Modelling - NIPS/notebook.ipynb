{
 "cells": [
  {
   "cell_type": "markdown",
   "metadata": {},
   "source": [
    "# Analyzing Text Data using NLP"
   ]
  },
  {
   "cell_type": "markdown",
   "metadata": {
    "dc": {
     "key": "4"
    },
    "deletable": false,
    "editable": false,
    "run_control": {
     "frozen": true
    },
    "tags": [
     "context"
    ]
   },
   "source": [
    "## 1. Loading the NIPS papers\n",
    "<p>The NIPS conference (Neural Information Processing Systems) is one of the most prestigious yearly events in the machine learning community. At each NIPS conference, a large number of research papers are published. Over 50,000 PDF files were automatically downloaded and processed to obtain a dataset on various machine learning techniques. These NIPS papers are stored in <code>datasets/papers.csv</code>. The CSV file contains information on the different NIPS papers that were published from 1987 until 2017 (30 years!). These papers discuss a wide variety of topics in machine learning, from neural networks to optimization methods and many more.\n",
    "<img src=\"https://assets.datacamp.com/production/project_158/img/nips_logo.png\" alt=\"The logo of NIPS (Neural Information Processing Systems)\"></p>\n",
    "<p>First, we will explore the CSV file to determine what type of data we can use for the analysis and how it is structured. A research paper typically consists of a title, an abstract and the main text. Other data such as figures and tables were not extracted from the PDF files. Each paper discusses a novel technique or improvement. In this analysis, we will focus on analyzing these papers with natural language processing methods.</p>"
   ]
  },
  {
   "cell_type": "code",
   "execution_count": 6,
   "metadata": {
    "dc": {
     "key": "4"
    },
    "tags": [
     "sample_code"
    ]
   },
   "outputs": [
    {
     "data": {
      "text/html": [
       "<div>\n",
       "<style scoped>\n",
       "    .dataframe tbody tr th:only-of-type {\n",
       "        vertical-align: middle;\n",
       "    }\n",
       "\n",
       "    .dataframe tbody tr th {\n",
       "        vertical-align: top;\n",
       "    }\n",
       "\n",
       "    .dataframe thead th {\n",
       "        text-align: right;\n",
       "    }\n",
       "</style>\n",
       "<table border=\"1\" class=\"dataframe\">\n",
       "  <thead>\n",
       "    <tr style=\"text-align: right;\">\n",
       "      <th></th>\n",
       "      <th>id</th>\n",
       "      <th>year</th>\n",
       "      <th>title</th>\n",
       "      <th>event_type</th>\n",
       "      <th>pdf_name</th>\n",
       "      <th>abstract</th>\n",
       "      <th>paper_text</th>\n",
       "    </tr>\n",
       "  </thead>\n",
       "  <tbody>\n",
       "    <tr>\n",
       "      <th>0</th>\n",
       "      <td>1</td>\n",
       "      <td>1987</td>\n",
       "      <td>Self-Organization of Associative Database and ...</td>\n",
       "      <td>NaN</td>\n",
       "      <td>1-self-organization-of-associative-database-an...</td>\n",
       "      <td>Abstract Missing</td>\n",
       "      <td>767\\n\\nSELF-ORGANIZATION OF ASSOCIATIVE DATABA...</td>\n",
       "    </tr>\n",
       "    <tr>\n",
       "      <th>1</th>\n",
       "      <td>10</td>\n",
       "      <td>1987</td>\n",
       "      <td>A Mean Field Theory of Layer IV of Visual Cort...</td>\n",
       "      <td>NaN</td>\n",
       "      <td>10-a-mean-field-theory-of-layer-iv-of-visual-c...</td>\n",
       "      <td>Abstract Missing</td>\n",
       "      <td>683\\n\\nA MEAN FIELD THEORY OF LAYER IV OF VISU...</td>\n",
       "    </tr>\n",
       "    <tr>\n",
       "      <th>2</th>\n",
       "      <td>100</td>\n",
       "      <td>1988</td>\n",
       "      <td>Storing Covariance by the Associative Long-Ter...</td>\n",
       "      <td>NaN</td>\n",
       "      <td>100-storing-covariance-by-the-associative-long...</td>\n",
       "      <td>Abstract Missing</td>\n",
       "      <td>394\\n\\nSTORING COVARIANCE BY THE ASSOCIATIVE\\n...</td>\n",
       "    </tr>\n",
       "    <tr>\n",
       "      <th>3</th>\n",
       "      <td>1000</td>\n",
       "      <td>1994</td>\n",
       "      <td>Bayesian Query Construction for Neural Network...</td>\n",
       "      <td>NaN</td>\n",
       "      <td>1000-bayesian-query-construction-for-neural-ne...</td>\n",
       "      <td>Abstract Missing</td>\n",
       "      <td>Bayesian Query Construction for Neural\\nNetwor...</td>\n",
       "    </tr>\n",
       "    <tr>\n",
       "      <th>4</th>\n",
       "      <td>1001</td>\n",
       "      <td>1994</td>\n",
       "      <td>Neural Network Ensembles, Cross Validation, an...</td>\n",
       "      <td>NaN</td>\n",
       "      <td>1001-neural-network-ensembles-cross-validation...</td>\n",
       "      <td>Abstract Missing</td>\n",
       "      <td>Neural Network Ensembles, Cross\\nValidation, a...</td>\n",
       "    </tr>\n",
       "  </tbody>\n",
       "</table>\n",
       "</div>"
      ],
      "text/plain": [
       "     id  year                                              title event_type  \\\n",
       "0     1  1987  Self-Organization of Associative Database and ...        NaN   \n",
       "1    10  1987  A Mean Field Theory of Layer IV of Visual Cort...        NaN   \n",
       "2   100  1988  Storing Covariance by the Associative Long-Ter...        NaN   \n",
       "3  1000  1994  Bayesian Query Construction for Neural Network...        NaN   \n",
       "4  1001  1994  Neural Network Ensembles, Cross Validation, an...        NaN   \n",
       "\n",
       "                                            pdf_name          abstract  \\\n",
       "0  1-self-organization-of-associative-database-an...  Abstract Missing   \n",
       "1  10-a-mean-field-theory-of-layer-iv-of-visual-c...  Abstract Missing   \n",
       "2  100-storing-covariance-by-the-associative-long...  Abstract Missing   \n",
       "3  1000-bayesian-query-construction-for-neural-ne...  Abstract Missing   \n",
       "4  1001-neural-network-ensembles-cross-validation...  Abstract Missing   \n",
       "\n",
       "                                          paper_text  \n",
       "0  767\\n\\nSELF-ORGANIZATION OF ASSOCIATIVE DATABA...  \n",
       "1  683\\n\\nA MEAN FIELD THEORY OF LAYER IV OF VISU...  \n",
       "2  394\\n\\nSTORING COVARIANCE BY THE ASSOCIATIVE\\n...  \n",
       "3  Bayesian Query Construction for Neural\\nNetwor...  \n",
       "4  Neural Network Ensembles, Cross\\nValidation, a...  "
      ]
     },
     "execution_count": 6,
     "metadata": {},
     "output_type": "execute_result"
    }
   ],
   "source": [
    "# Importing modules\n",
    "import pandas as pd\n",
    "\n",
    "# Read datasets/papers.csv into papers\n",
    "papers = pd.read_csv(\"papers.csv\")\n",
    "\n",
    "# Print out the first rows of papers\n",
    "papers.head()"
   ]
  },
  {
   "cell_type": "code",
   "execution_count": 7,
   "metadata": {},
   "outputs": [
    {
     "data": {
      "text/plain": [
       "Index(['id', 'year', 'title', 'event_type', 'pdf_name', 'abstract',\n",
       "       'paper_text'],\n",
       "      dtype='object')"
      ]
     },
     "execution_count": 7,
     "metadata": {},
     "output_type": "execute_result"
    }
   ],
   "source": [
    "papers.columns"
   ]
  },
  {
   "cell_type": "markdown",
   "metadata": {
    "dc": {
     "key": "11"
    },
    "deletable": false,
    "editable": false,
    "run_control": {
     "frozen": true
    },
    "tags": [
     "context"
    ]
   },
   "source": [
    "## 2. Preparing the data for analysis\n",
    "<p>For the analysis of the papers, we are only interested in the text data associated with the paper as well as the year the paper was published in.</p>\n",
    "<p>We will analyze this text data using natural language processing.  Since the file contains some metadata such as id's and filenames, it is necessary to remove all the columns that do not contain useful text information.</p>"
   ]
  },
  {
   "cell_type": "code",
   "execution_count": 8,
   "metadata": {
    "dc": {
     "key": "11"
    },
    "tags": [
     "sample_code"
    ]
   },
   "outputs": [
    {
     "data": {
      "text/html": [
       "<div>\n",
       "<style scoped>\n",
       "    .dataframe tbody tr th:only-of-type {\n",
       "        vertical-align: middle;\n",
       "    }\n",
       "\n",
       "    .dataframe tbody tr th {\n",
       "        vertical-align: top;\n",
       "    }\n",
       "\n",
       "    .dataframe thead th {\n",
       "        text-align: right;\n",
       "    }\n",
       "</style>\n",
       "<table border=\"1\" class=\"dataframe\">\n",
       "  <thead>\n",
       "    <tr style=\"text-align: right;\">\n",
       "      <th></th>\n",
       "      <th>year</th>\n",
       "      <th>title</th>\n",
       "      <th>abstract</th>\n",
       "      <th>paper_text</th>\n",
       "    </tr>\n",
       "  </thead>\n",
       "  <tbody>\n",
       "    <tr>\n",
       "      <th>0</th>\n",
       "      <td>1987</td>\n",
       "      <td>Self-Organization of Associative Database and ...</td>\n",
       "      <td>Abstract Missing</td>\n",
       "      <td>767\\n\\nSELF-ORGANIZATION OF ASSOCIATIVE DATABA...</td>\n",
       "    </tr>\n",
       "    <tr>\n",
       "      <th>1</th>\n",
       "      <td>1987</td>\n",
       "      <td>A Mean Field Theory of Layer IV of Visual Cort...</td>\n",
       "      <td>Abstract Missing</td>\n",
       "      <td>683\\n\\nA MEAN FIELD THEORY OF LAYER IV OF VISU...</td>\n",
       "    </tr>\n",
       "    <tr>\n",
       "      <th>2</th>\n",
       "      <td>1988</td>\n",
       "      <td>Storing Covariance by the Associative Long-Ter...</td>\n",
       "      <td>Abstract Missing</td>\n",
       "      <td>394\\n\\nSTORING COVARIANCE BY THE ASSOCIATIVE\\n...</td>\n",
       "    </tr>\n",
       "    <tr>\n",
       "      <th>3</th>\n",
       "      <td>1994</td>\n",
       "      <td>Bayesian Query Construction for Neural Network...</td>\n",
       "      <td>Abstract Missing</td>\n",
       "      <td>Bayesian Query Construction for Neural\\nNetwor...</td>\n",
       "    </tr>\n",
       "    <tr>\n",
       "      <th>4</th>\n",
       "      <td>1994</td>\n",
       "      <td>Neural Network Ensembles, Cross Validation, an...</td>\n",
       "      <td>Abstract Missing</td>\n",
       "      <td>Neural Network Ensembles, Cross\\nValidation, a...</td>\n",
       "    </tr>\n",
       "  </tbody>\n",
       "</table>\n",
       "</div>"
      ],
      "text/plain": [
       "   year                                              title          abstract  \\\n",
       "0  1987  Self-Organization of Associative Database and ...  Abstract Missing   \n",
       "1  1987  A Mean Field Theory of Layer IV of Visual Cort...  Abstract Missing   \n",
       "2  1988  Storing Covariance by the Associative Long-Ter...  Abstract Missing   \n",
       "3  1994  Bayesian Query Construction for Neural Network...  Abstract Missing   \n",
       "4  1994  Neural Network Ensembles, Cross Validation, an...  Abstract Missing   \n",
       "\n",
       "                                          paper_text  \n",
       "0  767\\n\\nSELF-ORGANIZATION OF ASSOCIATIVE DATABA...  \n",
       "1  683\\n\\nA MEAN FIELD THEORY OF LAYER IV OF VISU...  \n",
       "2  394\\n\\nSTORING COVARIANCE BY THE ASSOCIATIVE\\n...  \n",
       "3  Bayesian Query Construction for Neural\\nNetwor...  \n",
       "4  Neural Network Ensembles, Cross\\nValidation, a...  "
      ]
     },
     "execution_count": 8,
     "metadata": {},
     "output_type": "execute_result"
    }
   ],
   "source": [
    "# Remove the columns\n",
    "papers.drop(['id', 'event_type', 'pdf_name'], axis=1, inplace=True)\n",
    "\n",
    "# Print out the first rows of papers\n",
    "papers.head()"
   ]
  },
  {
   "cell_type": "code",
   "execution_count": 12,
   "metadata": {},
   "outputs": [
    {
     "data": {
      "text/plain": [
       "(7241, 4)"
      ]
     },
     "execution_count": 12,
     "metadata": {},
     "output_type": "execute_result"
    }
   ],
   "source": [
    "papers.shape"
   ]
  },
  {
   "cell_type": "markdown",
   "metadata": {
    "dc": {
     "key": "18"
    },
    "deletable": false,
    "editable": false,
    "run_control": {
     "frozen": true
    },
    "tags": [
     "context"
    ]
   },
   "source": [
    "## 3. Plotting how machine learning has evolved over time\n",
    "<p>In order to understand how the machine learning field has recently exploded in popularity, we will begin by visualizing the number of publications per year. </p>\n",
    "<p>By looking at the number of published papers per year,  we can understand the extent of the machine learning 'revolution'! Typically, this significant increase in popularity is attributed to the large amounts of compute power, data and improvements in algorithms.</p>"
   ]
  },
  {
   "cell_type": "code",
   "execution_count": 67,
   "metadata": {
    "dc": {
     "key": "18"
    },
    "tags": [
     "sample_code"
    ]
   },
   "outputs": [
    {
     "data": {
      "text/plain": [
       "<AxesSubplot:xlabel='year'>"
      ]
     },
     "execution_count": 67,
     "metadata": {},
     "output_type": "execute_result"
    },
    {
     "data": {
      "image/png": "[encoded data removed]",
      "text/plain": [
       "<Figure size 432x288 with 1 Axes>"
      ]
     },
     "metadata": {
      "needs_background": "light"
     },
     "output_type": "display_data"
    }
   ],
   "source": [
    "# Group the papers by year\n",
    "groups = papers.groupby('year')\n",
    "\n",
    "# Determine the size of each group\n",
    "counts = groups.size()\n",
    "\n",
    "# Visualise the counts as a bar plot\n",
    "import matplotlib.pyplot\n",
    "%matplotlib inline\n",
    "counts.plot(kind='bar')"
   ]
  },
  {
   "cell_type": "markdown",
   "metadata": {
    "dc": {
     "key": "25"
    },
    "deletable": false,
    "editable": false,
    "run_control": {
     "frozen": true
    },
    "tags": [
     "context"
    ]
   },
   "source": [
    "## 4. Preprocessing the text data\n",
    "<p>Let's now analyze the titles of the different papers to identify machine learning trends. First, we will perform some simple preprocessing on the titles in order to make them more amenable for analysis. We will use a regular expression to remove any punctuation in the title. Then we will perform lowercasing. We'll then print the titles of the first rows before and after applying the modification.</p>"
   ]
  },
  {
   "cell_type": "code",
   "execution_count": 14,
   "metadata": {
    "dc": {
     "key": "25"
    },
    "tags": [
     "sample_code"
    ]
   },
   "outputs": [
    {
     "name": "stdout",
     "output_type": "stream",
     "text": [
      "0    Self-Organization of Associative Database and ...\n",
      "1    A Mean Field Theory of Layer IV of Visual Cort...\n",
      "2    Storing Covariance by the Associative Long-Ter...\n",
      "3    Bayesian Query Construction for Neural Network...\n",
      "4    Neural Network Ensembles, Cross Validation, an...\n",
      "Name: title, dtype: object\n"
     ]
    },
    {
     "data": {
      "text/plain": [
       "0    self-organization of associative database and ...\n",
       "1    a mean field theory of layer iv of visual cort...\n",
       "2    storing covariance by the associative long-ter...\n",
       "3    bayesian query construction for neural network...\n",
       "4    neural network ensembles cross validation and ...\n",
       "Name: title_processed, dtype: object"
      ]
     },
     "execution_count": 14,
     "metadata": {},
     "output_type": "execute_result"
    }
   ],
   "source": [
    "# Load the regular expression library\n",
    "import re\n",
    "\n",
    "# Print the titles of the first rows \n",
    "print(papers['title'].head())\n",
    "\n",
    "# Preprocess the title \n",
    "papers['title_processed'] = papers['title'].map(lambda x: re.sub('[,\\.!?]', '', x))\n",
    "\n",
    "# Convert the titles to lowercase before tokenizing\n",
    "papers['title_processed'] = papers['title_processed'].map(lambda x: x.lower())\n",
    "\n",
    "# Print the processed titles of the first rows \n",
    "papers['title_processed'].head()"
   ]
  },
  {
   "cell_type": "markdown",
   "metadata": {
    "dc": {
     "key": "32"
    },
    "deletable": false,
    "editable": false,
    "run_control": {
     "frozen": true
    },
    "tags": [
     "context"
    ]
   },
   "source": [
    "## 5.  A word cloud to visualize the preprocessed text data\n",
    "<p>In order to verify whether the preprocessing happened correctly, we can make a word cloud of the titles of the research papers. This will give us a visual representation of the most common words. Visualisation is key to understanding whether we are still on the right track! In addition, it allows us to verify whether we need additional preprocessing before further analyzing the text data.</p>\n",
    "<p>Python has a massive number of open libraries! Instead of trying to develop a method to create word clouds ourselves, we'll use Andreas Mueller's <a href=\"http://amueller.github.io/word_cloud/\">wordcloud library</a>.</p>"
   ]
  },
  {
   "cell_type": "code",
   "execution_count": 44,
   "metadata": {},
   "outputs": [
    {
     "data": {
      "image/png": "[encoded data removed]",
      "text/plain": [
       "<Figure size 720x576 with 1 Axes>"
      ]
     },
     "metadata": {
      "needs_background": "light"
     },
     "output_type": "display_data"
    }
   ],
   "source": [
    "# Import the wordcloud library\n",
    "import wordcloud\n",
    "\n",
    "# Join the different processed titles together.\n",
    "long_string = ' '.join(papers['title_processed'])\n",
    "\n",
    "# Create a WordCloud object, generate a wordcloud and visualise it\n",
    "#change font_size, max_word and background_color\n",
    "wordcloud = WordCloud().generate(long_string)  \n",
    "plt.figure(figsize=(10,8))\n",
    "plt.imshow(wordcloud)\n",
    "plt.axis('off')\n",
    "plt.show()"
   ]
  },
  {
   "cell_type": "markdown",
   "metadata": {
    "dc": {
     "key": "39"
    },
    "deletable": false,
    "editable": false,
    "run_control": {
     "frozen": true
    },
    "tags": [
     "context"
    ]
   },
   "source": [
    "## 6.  Prepare the text for LDA analysis\n",
    "<p>The main text analysis method that we will use is latent Dirichlet allocation (LDA). LDA is able to perform topic detection on large document sets, determining what the main 'topics' are in a large unlabeled set of texts. A 'topic' is a collection of words that tend to co-occur often. The hypothesis is that LDA might be able to clarify what the different topics in the research titles are. These topics can then be used as a starting point for further analysis.</p>\n",
    "<p>LDA does not work directly on text data. First, it is necessary to convert the documents into a simple vector representation. This representation will then be used by LDA to determine the topics. Each entry of a 'document vector' will correspond with the number of times a word occurred in the document. In conclusion, we will convert a list of titles into a list of vectors, all with length equal to the vocabulary. For example, <em>'Analyzing machine learning trends with neural networks.'</em> would be transformed into <code>[1, 0, 1, ..., 1, 0]</code>.</p>\n",
    "<p>We'll then plot the 10 most common words based on the outcome of this operation (the list of document vectors). As a check, these words should also occur in the word cloud.</p>"
   ]
  },
  {
   "cell_type": "markdown",
   "metadata": {},
   "source": [
    "### CountVectorizer:\n",
    "CountVectorizer creates a matrix in which each unique word is represented by a column of the matrix, and each text sample from the document is a row in the matrix. The value of each cell is nothing but the count of the word in that particular text sample. "
   ]
  },
  {
   "cell_type": "code",
   "execution_count": 110,
   "metadata": {},
   "outputs": [
    {
     "name": "stdout",
     "output_type": "stream",
     "text": [
      "[0. 0. 0. 0. 0.]\n",
      "(9,)\n"
     ]
    }
   ],
   "source": [
    "#np.zeros\n",
    "\n",
    "a = np.zeros(5)\n",
    "print(a)\n",
    "\n",
    "word = 'pineapple' \n",
    "b = np.zeros(len(word)).shape #1D array\n",
    "print(b)"
   ]
  },
  {
   "cell_type": "code",
   "execution_count": 124,
   "metadata": {
    "scrolled": false
   },
   "outputs": [],
   "source": [
    "#count_vectorizer.get_feature_names() #--> a list of words "
   ]
  },
  {
   "cell_type": "markdown",
   "metadata": {},
   "source": [
    "from sklearn.feature_extraction.text import CountVectorizer\n",
    "\n",
    "corpus= ['Load the library with the CountVectorizer method']\n",
    "count_vec = CountVectorizer()\n",
    "output= count_vec.fit_transform(corpus)\n",
    "output.toarray()\n",
    "\n",
    "문구를 리스트 안에 담고 (corpus), CountVectorizer class를 만들고 fit_transform하면된다.\n",
    "output은 sparse matrix 형태로 나오므로 toarray()를 해야지 각 빈도수를 볼 수 있다."
   ]
  },
  {
   "cell_type": "code",
   "execution_count": 111,
   "metadata": {},
   "outputs": [
    {
     "data": {
      "text/plain": [
       "\"\\nexample: \\n>>> from sklearn.feature_extraction.text import CountVectorizer\\n>>> corpus = [\\n...     'This is the first document.',\\n...     'This document is the second document.',\\n...     'And this is the third one.',\\n...     'Is this the first document?',\\n... ]\\n>>> vectorizer = CountVectorizer()\\n>>> X = vectorizer.fit_transform(corpus)\\n>>> vectorizer.get_feature_names_out()\\narray(['and', 'document', 'first', 'is', 'one', 'second', 'the', 'third',\\n       'this'], ...)\\n>>> print(X.toarray())\\n[[0 1 1 1 0 0 1 0 1]\\n [0 2 0 1 0 1 1 0 1]\\n [1 0 0 1 1 0 1 1 1]\\n [0 1 1 1 0 0 1 0 1]] \\n \\n \""
      ]
     },
     "execution_count": 111,
     "metadata": {},
     "output_type": "execute_result"
    }
   ],
   "source": [
    "'''\n",
    "example: \n",
    ">>> from sklearn.feature_extraction.text import CountVectorizer\n",
    ">>> corpus = [\n",
    "...     'This is the first document.',\n",
    "...     'This document is the second document.',\n",
    "...     'And this is the third one.',\n",
    "...     'Is this the first document?',\n",
    "... ]\n",
    ">>> vectorizer = CountVectorizer()\n",
    ">>> X = vectorizer.fit_transform(corpus)\n",
    ">>> vectorizer.get_feature_names_out()\n",
    "array(['and', 'document', 'first', 'is', 'one', 'second', 'the', 'third',\n",
    "       'this'], ...)\n",
    ">>> print(X.toarray())\n",
    "[[0 1 1 1 0 0 1 0 1]\n",
    " [0 2 0 1 0 1 1 0 1]\n",
    " [1 0 0 1 1 0 1 1 1]\n",
    " [0 1 1 1 0 0 1 0 1]] \n",
    " \n",
    " '''"
   ]
  },
  {
   "cell_type": "code",
   "execution_count": null,
   "metadata": {},
   "outputs": [],
   "source": []
  },
  {
   "cell_type": "code",
   "execution_count": 208,
   "metadata": {},
   "outputs": [
    {
     "name": "stdout",
     "output_type": "stream",
     "text": [
      "  (0, 4380)\t1\n",
      "  (0, 3394)\t1\n",
      "  (0, 300)\t1\n",
      "  (0, 1186)\t1\n",
      "  (0, 233)\t1\n",
      "  (1, 2888)\t1\n",
      "  (1, 1818)\t1\n",
      "  (1, 4974)\t1\n",
      "  (1, 2612)\t1\n",
      "  (1, 2505)\t1\n",
      "  (1, 5298)\t1\n",
      "  (1, 1097)\t1\n",
      "  (1, 232)\t1\n",
      "  (1, 280)\t1\n",
      "  (1, 3199)\t1\n",
      "  (1, 3198)\t1\n",
      "  (2, 300)\t1\n",
      "  (2, 4720)\t1\n",
      "  (2, 1114)\t1\n",
      "  (2, 2754)\t1\n",
      "  (2, 4950)\t1\n",
      "  (2, 3695)\t1\n",
      "  (2, 1275)\t1\n",
      "  (2, 4871)\t1\n",
      "  (2, 4734)\t1\n",
      "  :\t:\n",
      "  (7237, 5249)\t1\n",
      "  (7237, 4663)\t1\n",
      "  (7237, 860)\t1\n",
      "  (7238, 3199)\t1\n",
      "  (7238, 3962)\t1\n",
      "  (7238, 5007)\t1\n",
      "  (7238, 792)\t1\n",
      "  (7238, 801)\t1\n",
      "  (7238, 1599)\t1\n",
      "  (7239, 3033)\t1\n",
      "  (7239, 2631)\t1\n",
      "  (7239, 3076)\t1\n",
      "  (7239, 762)\t1\n",
      "  (7239, 1368)\t1\n",
      "  (7239, 2017)\t1\n",
      "  (7239, 3078)\t1\n",
      "  (7239, 3858)\t1\n",
      "  (7240, 3198)\t1\n",
      "  (7240, 3962)\t1\n",
      "  (7240, 5007)\t1\n",
      "  (7240, 183)\t1\n",
      "  (7240, 1090)\t1\n",
      "  (7240, 2427)\t1\n",
      "  (7240, 4885)\t1\n",
      "  (7240, 1739)\t1\n"
     ]
    }
   ],
   "source": [
    "print(count_vectorizer.fit_transform(papers['title_processed'])) ###############check"
   ]
  },
  {
   "cell_type": "code",
   "execution_count": 137,
   "metadata": {},
   "outputs": [
    {
     "data": {
      "text/plain": [
       "<7241x5422 sparse matrix of type '<class 'numpy.int64'>'\n",
       "\twith 44546 stored elements in Compressed Sparse Row format>"
      ]
     },
     "execution_count": 137,
     "metadata": {},
     "output_type": "execute_result"
    }
   ],
   "source": [
    "count_data"
   ]
  },
  {
   "cell_type": "code",
   "execution_count": 138,
   "metadata": {},
   "outputs": [
    {
     "data": {
      "text/plain": [
       "0       self-organization of associative database and ...\n",
       "1       a mean field theory of layer iv of visual cort...\n",
       "2       storing covariance by the associative long-ter...\n",
       "3       bayesian query construction for neural network...\n",
       "4       neural network ensembles cross validation and ...\n",
       "                              ...                        \n",
       "7236                  single transistor learning synapses\n",
       "7237    bias variance and the combination of least squ...\n",
       "7238            a real time clustering cmos neural engine\n",
       "7239    learning direction in global motion: two class...\n",
       "7240    correlation and interpolation networks for rea...\n",
       "Name: title_processed, Length: 7241, dtype: object"
      ]
     },
     "execution_count": 138,
     "metadata": {},
     "output_type": "execute_result"
    }
   ],
   "source": [
    "papers['title_processed']"
   ]
  },
  {
   "cell_type": "code",
   "execution_count": 209,
   "metadata": {},
   "outputs": [
    {
     "name": "stderr",
     "output_type": "stream",
     "text": [
      "/Users/user/opt/anaconda3/envs/env_new/lib/python3.8/site-packages/sklearn/utils/deprecation.py:87: FutureWarning: Function get_feature_names is deprecated; get_feature_names is deprecated in 1.0 and will be removed in 1.2. Please use get_feature_names_out instead.\n",
      "  warnings.warn(msg, category=FutureWarning)\n"
     ]
    },
    {
     "data": {
      "text/plain": [
       "['000',\n",
       " '17',\n",
       " '1993',\n",
       " '1d',\n",
       " '2003',\n",
       " '21',\n",
       " '25',\n",
       " '25d',\n",
       " '2d',\n",
       " '2k',\n",
       " '32k',\n",
       " '360',\n",
       " '3d',\n",
       " '3n2',\n",
       " '40',\n",
       " '488',\n",
       " '90s',\n",
       " '_1',\n",
       " '_2',\n",
       " '_rate',\n",
       " 'abandoned',\n",
       " 'abilities',\n",
       " 'ability',\n",
       " 'absence',\n",
       " 'absolute',\n",
       " 'absorbing',\n",
       " 'abstention',\n",
       " 'abstract',\n",
       " 'abstraction',\n",
       " 'accelerate',\n",
       " 'accelerated',\n",
       " 'accelerating',\n",
       " 'acceleration',\n",
       " 'accelerators',\n",
       " 'access',\n",
       " 'accompaniment',\n",
       " 'account',\n",
       " 'accounting',\n",
       " 'accounts',\n",
       " 'accumulator',\n",
       " 'accuracy',\n",
       " 'accurate',\n",
       " 'ach',\n",
       " 'achieves',\n",
       " 'achieving',\n",
       " 'acid',\n",
       " 'acoustic',\n",
       " 'acquisition',\n",
       " 'acrosss',\n",
       " 'act',\n",
       " 'action',\n",
       " 'actions',\n",
       " 'activation',\n",
       " 'activations',\n",
       " 'active',\n",
       " 'activities',\n",
       " 'activity',\n",
       " 'actor',\n",
       " 'actually',\n",
       " 'acuity',\n",
       " 'acyclic',\n",
       " 'adaboost',\n",
       " 'adagan',\n",
       " 'adaptable',\n",
       " 'adaptation',\n",
       " 'adapter',\n",
       " 'adapters',\n",
       " 'adapting',\n",
       " 'adaption',\n",
       " 'adaptive',\n",
       " 'adaptively',\n",
       " 'adaptivity',\n",
       " 'adaptor',\n",
       " 'adapts',\n",
       " 'adding',\n",
       " 'addition',\n",
       " 'additional',\n",
       " 'additive',\n",
       " 'address',\n",
       " 'addressing',\n",
       " 'adds',\n",
       " 'adjoint',\n",
       " 'adjusted',\n",
       " 'adjusting',\n",
       " 'adjustment',\n",
       " 'admissible',\n",
       " 'admission',\n",
       " 'admixture',\n",
       " 'admm',\n",
       " 'advances',\n",
       " 'advantage',\n",
       " 'adversarial',\n",
       " 'adversarially',\n",
       " 'adversaries',\n",
       " 'adversary',\n",
       " 'adverse',\n",
       " 'advertisement',\n",
       " 'advertisements',\n",
       " 'advertising',\n",
       " 'advice',\n",
       " 'aer',\n",
       " 'aerobatic',\n",
       " 'affect',\n",
       " 'affects',\n",
       " 'affine',\n",
       " 'affinity',\n",
       " 'aftereffects',\n",
       " 'agent',\n",
       " 'agents',\n",
       " 'agglomerate',\n",
       " 'agglomerative',\n",
       " 'aggregate',\n",
       " 'aggregated',\n",
       " 'aggregating',\n",
       " 'aggregation',\n",
       " 'aggregative',\n",
       " 'aggressive',\n",
       " 'agnostic',\n",
       " 'agonizing',\n",
       " 'agreement',\n",
       " 'ahead',\n",
       " 'ai',\n",
       " 'aibo',\n",
       " 'aide',\n",
       " 'aided',\n",
       " 'aids',\n",
       " 'airborne',\n",
       " 'aircraft',\n",
       " 'alcohol',\n",
       " 'alcove',\n",
       " 'alertness',\n",
       " 'algebra',\n",
       " 'algebraic',\n",
       " 'algonquin',\n",
       " 'algorithm',\n",
       " 'algorithmic',\n",
       " 'algorithmics',\n",
       " 'algorithms',\n",
       " 'aliasing',\n",
       " 'alice',\n",
       " 'align',\n",
       " 'alignment',\n",
       " 'alike',\n",
       " 'alleviating',\n",
       " 'allocated',\n",
       " 'allocates',\n",
       " 'allocating',\n",
       " 'allocation',\n",
       " 'allocations',\n",
       " 'allow',\n",
       " 'allows',\n",
       " 'aloud',\n",
       " 'alpha',\n",
       " 'alphabet',\n",
       " 'alphabets',\n",
       " 'alphanumeric',\n",
       " 'alsh',\n",
       " 'alternating',\n",
       " 'alternative',\n",
       " 'alternatives',\n",
       " 'altitude',\n",
       " 'alvinn',\n",
       " 'alzheimer',\n",
       " 'ambiguities',\n",
       " 'ambiguity',\n",
       " 'ambiguous',\n",
       " 'amino',\n",
       " 'amnesia',\n",
       " 'amorphous',\n",
       " 'amortized',\n",
       " 'amp',\n",
       " 'amplification',\n",
       " 'amplifying',\n",
       " 'amplitude',\n",
       " 'anagram',\n",
       " 'analog',\n",
       " 'analogical',\n",
       " 'analogue',\n",
       " 'analogy',\n",
       " 'analsysis',\n",
       " 'analysers',\n",
       " 'analyses',\n",
       " 'analysing',\n",
       " 'analysis',\n",
       " 'analytic',\n",
       " 'analytical',\n",
       " 'analyze',\n",
       " 'analyzers',\n",
       " 'analyzing',\n",
       " 'anatomical',\n",
       " 'anatomically',\n",
       " 'anaylsis',\n",
       " 'ancestor',\n",
       " 'ancestral',\n",
       " 'anchor',\n",
       " 'anchored',\n",
       " 'anchoring',\n",
       " 'anderson',\n",
       " 'andit',\n",
       " 'angular',\n",
       " 'animal',\n",
       " 'animation',\n",
       " 'anisotropic',\n",
       " 'ann',\n",
       " 'anna',\n",
       " 'annealed',\n",
       " 'annealing',\n",
       " 'annotated',\n",
       " 'annotation',\n",
       " 'annotations',\n",
       " 'annotator',\n",
       " 'annotators',\n",
       " 'anomaly',\n",
       " 'anonymity',\n",
       " 'anova',\n",
       " 'answering',\n",
       " 'antarctic',\n",
       " 'antenna',\n",
       " 'antennal',\n",
       " 'anti',\n",
       " 'anticipative',\n",
       " 'anticipatory',\n",
       " 'antiferromagnetic',\n",
       " 'anytime',\n",
       " 'apalm',\n",
       " 'aperiodic',\n",
       " 'aperture',\n",
       " 'aphasia',\n",
       " 'apical',\n",
       " 'apobayesian',\n",
       " 'app',\n",
       " 'appearance',\n",
       " 'application',\n",
       " 'applications',\n",
       " 'applied',\n",
       " 'applying',\n",
       " 'apprenticeship',\n",
       " 'approach',\n",
       " 'approaches',\n",
       " 'appropriation',\n",
       " 'approval',\n",
       " 'approximability',\n",
       " 'approximate',\n",
       " 'approximated',\n",
       " 'approximately',\n",
       " 'approximating',\n",
       " 'approximation',\n",
       " 'approximations',\n",
       " 'approximator',\n",
       " 'approximators',\n",
       " 'apricodd',\n",
       " 'ara',\n",
       " 'arbitrarily',\n",
       " 'arbitrary',\n",
       " 'arbitration',\n",
       " 'arbors',\n",
       " 'arc',\n",
       " 'architectural',\n",
       " 'architecture',\n",
       " 'architectures',\n",
       " 'area',\n",
       " 'areas',\n",
       " 'argument',\n",
       " 'arising',\n",
       " 'arithmetic',\n",
       " 'arm',\n",
       " 'arma',\n",
       " 'armed',\n",
       " 'arms',\n",
       " 'array',\n",
       " 'arrays',\n",
       " 'arrhythmia',\n",
       " 'arrival',\n",
       " 'art',\n",
       " 'art2',\n",
       " 'artefactual',\n",
       " 'artery',\n",
       " 'artex',\n",
       " 'articulated',\n",
       " 'artifacts',\n",
       " 'artificial',\n",
       " 'asap',\n",
       " 'ascent',\n",
       " 'asd',\n",
       " 'asking',\n",
       " 'aspect',\n",
       " 'aspects',\n",
       " 'aspiration',\n",
       " 'assemblies',\n",
       " 'assembling',\n",
       " 'assembly',\n",
       " 'assessing',\n",
       " 'assessment',\n",
       " 'asset',\n",
       " 'assignment',\n",
       " 'assignments',\n",
       " 'assistants',\n",
       " 'associated',\n",
       " 'association',\n",
       " 'associations',\n",
       " 'associative',\n",
       " 'assortment',\n",
       " 'assumption',\n",
       " 'assumptions',\n",
       " 'asymmetric',\n",
       " 'asymmetrical',\n",
       " 'asymmetry',\n",
       " 'asymmetty',\n",
       " 'asymptotic',\n",
       " 'asymptotically',\n",
       " 'asymptotics',\n",
       " 'asynchronous',\n",
       " 'asynchrony',\n",
       " 'atari',\n",
       " 'atomic',\n",
       " 'atomization',\n",
       " 'attacking',\n",
       " 'attacks',\n",
       " 'attempts',\n",
       " 'attend',\n",
       " 'attention',\n",
       " 'attentional',\n",
       " 'attentive',\n",
       " 'attitude',\n",
       " 'attraction',\n",
       " 'attractive',\n",
       " 'attractiveness',\n",
       " 'attractor',\n",
       " 'attractors',\n",
       " 'attracts',\n",
       " 'attribute',\n",
       " 'attributed',\n",
       " 'attributes',\n",
       " 'auc',\n",
       " 'auction',\n",
       " 'auctions',\n",
       " 'audio',\n",
       " 'audiometry',\n",
       " 'audiovisual',\n",
       " 'auditing',\n",
       " 'audition',\n",
       " 'auditory',\n",
       " 'augment',\n",
       " 'augmentation',\n",
       " 'augmentative',\n",
       " 'augmented',\n",
       " 'augmenting',\n",
       " 'augur',\n",
       " 'auto',\n",
       " 'autoassociation',\n",
       " 'autoassociative',\n",
       " 'autoassociator',\n",
       " 'autocorrelated',\n",
       " 'autoencoder',\n",
       " 'autoencoders',\n",
       " 'automata',\n",
       " 'automated',\n",
       " 'automatic',\n",
       " 'automatically',\n",
       " 'automaton',\n",
       " 'autonomous',\n",
       " 'autoregressive',\n",
       " 'autoshaping',\n",
       " 'auxiliary',\n",
       " 'avalanches',\n",
       " 'avascular',\n",
       " 'average',\n",
       " 'averaged',\n",
       " 'averages',\n",
       " 'averaging',\n",
       " 'averse',\n",
       " 'aversion',\n",
       " 'avlsi',\n",
       " 'avoidance',\n",
       " 'avoiding',\n",
       " 'awake',\n",
       " 'aware',\n",
       " 'away',\n",
       " 'axial',\n",
       " 'axioms',\n",
       " 'axis',\n",
       " 'axon',\n",
       " 'axonal',\n",
       " 'axons',\n",
       " 'bach',\n",
       " 'backbones',\n",
       " 'backgammon',\n",
       " 'background',\n",
       " 'backprop',\n",
       " 'backpropagation',\n",
       " 'backshift',\n",
       " 'backups',\n",
       " 'backward',\n",
       " 'bad',\n",
       " 'bag',\n",
       " 'bagging',\n",
       " 'balance',\n",
       " 'balanced',\n",
       " 'balancing',\n",
       " 'ball',\n",
       " 'balls',\n",
       " 'banach',\n",
       " 'bandable',\n",
       " 'bandit',\n",
       " 'bandits',\n",
       " 'bandwidth',\n",
       " 'bangs',\n",
       " 'bank',\n",
       " 'banks',\n",
       " 'barn',\n",
       " 'baroque',\n",
       " 'barrier',\n",
       " 'bars',\n",
       " 'barycenters',\n",
       " 'barycentric',\n",
       " 'barzilai',\n",
       " 'basal',\n",
       " 'base',\n",
       " 'based',\n",
       " 'baseline',\n",
       " 'bases',\n",
       " 'basic',\n",
       " 'basin',\n",
       " 'basins',\n",
       " 'basis',\n",
       " 'batch',\n",
       " 'batched',\n",
       " 'batching',\n",
       " 'bats',\n",
       " 'bayes',\n",
       " 'bayesian',\n",
       " 'baysian',\n",
       " 'bci',\n",
       " 'beam',\n",
       " 'bearing',\n",
       " 'beat',\n",
       " 'beating',\n",
       " 'beats',\n",
       " 'bee',\n",
       " 'beef',\n",
       " 'behave',\n",
       " 'behaving',\n",
       " 'behavior',\n",
       " 'behavioral',\n",
       " 'behaviors',\n",
       " 'behaviour',\n",
       " 'behavioural',\n",
       " 'beholder',\n",
       " 'belief',\n",
       " 'beliefs',\n",
       " 'believing',\n",
       " 'bell',\n",
       " 'bellman',\n",
       " 'beltrami',\n",
       " 'benchmark',\n",
       " 'benchmarking',\n",
       " 'benchmarks',\n",
       " 'benefits',\n",
       " 'bernoulli',\n",
       " 'bernstein',\n",
       " 'best',\n",
       " 'beta',\n",
       " 'bethe',\n",
       " 'better',\n",
       " 'betting',\n",
       " 'betweenness',\n",
       " 'bfbp',\n",
       " 'bfgs',\n",
       " 'bfry',\n",
       " 'bi',\n",
       " 'bias',\n",
       " 'biased',\n",
       " 'biases',\n",
       " 'biasing',\n",
       " 'biclustering',\n",
       " 'biclusters',\n",
       " 'bid',\n",
       " 'bidding',\n",
       " 'bidirected',\n",
       " 'bidirectional',\n",
       " 'bifeo3',\n",
       " 'bifurcation',\n",
       " 'big',\n",
       " 'bigram',\n",
       " 'bigrams',\n",
       " 'bilinear',\n",
       " 'bilingual',\n",
       " 'billions',\n",
       " 'bimodal',\n",
       " 'binarized',\n",
       " 'binary',\n",
       " 'binaryconnect',\n",
       " 'binaural',\n",
       " 'binding',\n",
       " 'bindings',\n",
       " 'binet',\n",
       " 'binning',\n",
       " 'binocular',\n",
       " 'binomial',\n",
       " 'bio',\n",
       " 'biochemical',\n",
       " 'biological',\n",
       " 'biologically',\n",
       " 'biology',\n",
       " 'biomedical',\n",
       " 'biophysical',\n",
       " 'biophysically',\n",
       " 'biophysics',\n",
       " 'biopolymer',\n",
       " 'bipartite',\n",
       " 'biped',\n",
       " 'bipolar',\n",
       " 'bird',\n",
       " 'birds',\n",
       " 'birdsong',\n",
       " 'birkhoff',\n",
       " 'bisable',\n",
       " 'bisecting',\n",
       " 'bistability',\n",
       " 'bisubmodular',\n",
       " 'bit',\n",
       " 'bitam',\n",
       " 'bitcoin',\n",
       " 'black',\n",
       " 'blackbox',\n",
       " 'blackwellised',\n",
       " 'blankets',\n",
       " 'blanks',\n",
       " 'blazing',\n",
       " 'blending',\n",
       " 'blind',\n",
       " 'blinded',\n",
       " 'blinding',\n",
       " 'blindness',\n",
       " 'block',\n",
       " 'blocking',\n",
       " 'blockmodel',\n",
       " 'blockmodels',\n",
       " 'blocks',\n",
       " 'blood',\n",
       " 'bloom',\n",
       " 'blossom',\n",
       " 'blowfly',\n",
       " 'blur',\n",
       " 'board',\n",
       " 'bodies',\n",
       " 'body',\n",
       " 'boldmath',\n",
       " 'boltzmann',\n",
       " 'bond',\n",
       " 'bonnet',\n",
       " 'bonuses',\n",
       " 'boolean',\n",
       " 'boost',\n",
       " 'boosted',\n",
       " 'boosters',\n",
       " 'boosting',\n",
       " 'bootstrap',\n",
       " 'bootstrapped',\n",
       " 'bootstrapping',\n",
       " 'bored',\n",
       " 'borrowing',\n",
       " 'borwein',\n",
       " 'boson',\n",
       " 'bottleneck',\n",
       " 'bound',\n",
       " 'boundaries',\n",
       " 'boundary',\n",
       " 'bounded',\n",
       " 'bounding',\n",
       " 'bounds',\n",
       " 'box',\n",
       " 'boxlets',\n",
       " 'bp',\n",
       " 'bradley',\n",
       " 'brain',\n",
       " 'brains',\n",
       " 'brainstem',\n",
       " 'branch',\n",
       " 'branching',\n",
       " 'break',\n",
       " 'breaking',\n",
       " 'breast',\n",
       " 'bregman',\n",
       " 'bridge',\n",
       " 'bridging',\n",
       " 'brightness',\n",
       " 'brings',\n",
       " 'broadband',\n",
       " 'brownian',\n",
       " 'budget',\n",
       " 'budgeted',\n",
       " 'buffet',\n",
       " 'bugs',\n",
       " 'building',\n",
       " 'bulb',\n",
       " 'bulk',\n",
       " 'bump',\n",
       " 'bumping',\n",
       " 'bumptree',\n",
       " 'bumptrees',\n",
       " 'bundle',\n",
       " 'burer',\n",
       " 'burn',\n",
       " 'burst',\n",
       " 'bushy',\n",
       " 'button',\n",
       " 'buy',\n",
       " 'buyers',\n",
       " 'bypass',\n",
       " 'byzantine',\n",
       " 'c45',\n",
       " 'cache',\n",
       " 'caching',\n",
       " 'caenorhabditis',\n",
       " 'cake',\n",
       " 'calcium',\n",
       " 'calculating',\n",
       " 'calibrated',\n",
       " 'calibrating',\n",
       " 'calibration',\n",
       " 'cam',\n",
       " 'camera',\n",
       " 'cameras',\n",
       " 'campaigning',\n",
       " 'canceling',\n",
       " 'cancer',\n",
       " 'candidate',\n",
       " 'candidates',\n",
       " 'canonical',\n",
       " 'cantelli',\n",
       " 'capabilities',\n",
       " 'capability',\n",
       " 'capacity',\n",
       " 'capped',\n",
       " 'capsules',\n",
       " 'captchas',\n",
       " 'caption',\n",
       " 'captioned',\n",
       " 'captioning',\n",
       " 'captions',\n",
       " 'capture',\n",
       " 'capturing',\n",
       " 'car',\n",
       " 'cardiac',\n",
       " 'cardinality',\n",
       " 'cardiovascular',\n",
       " 'care',\n",
       " 'carlo',\n",
       " 'carried',\n",
       " 'cart',\n",
       " 'cascade',\n",
       " 'cascaded',\n",
       " 'cascades',\n",
       " 'cascading',\n",
       " 'case',\n",
       " 'cases',\n",
       " 'cat',\n",
       " 'catalyst',\n",
       " 'catastrophic',\n",
       " 'catches',\n",
       " 'catching',\n",
       " 'catecholamines',\n",
       " 'categorical',\n",
       " 'categories',\n",
       " 'categorization',\n",
       " 'categorize',\n",
       " 'category',\n",
       " 'catfish',\n",
       " 'cauchy',\n",
       " 'causal',\n",
       " 'cause',\n",
       " 'causes',\n",
       " 'cca',\n",
       " 'cccp',\n",
       " 'ccd',\n",
       " 'cdma',\n",
       " 'cell',\n",
       " 'cells',\n",
       " 'cellular',\n",
       " 'cem',\n",
       " 'censored',\n",
       " 'center',\n",
       " 'centered',\n",
       " 'centers',\n",
       " 'central',\n",
       " 'centralized',\n",
       " 'centric',\n",
       " 'centroid',\n",
       " 'cerebellar',\n",
       " 'cerebellum',\n",
       " 'cerebral',\n",
       " 'certain',\n",
       " 'certainty',\n",
       " 'certification',\n",
       " 'certified',\n",
       " 'cervical',\n",
       " 'chain',\n",
       " 'chained',\n",
       " 'chaining',\n",
       " 'chains',\n",
       " 'chaitin',\n",
       " 'challenge',\n",
       " 'change',\n",
       " 'changepoint',\n",
       " 'changes',\n",
       " 'changing',\n",
       " 'channel',\n",
       " 'channels',\n",
       " 'chaos',\n",
       " 'chaotic',\n",
       " 'character',\n",
       " 'characteristic',\n",
       " 'characteristics',\n",
       " 'characterization',\n",
       " 'characterize',\n",
       " 'characterizing',\n",
       " 'characters',\n",
       " 'charge',\n",
       " 'charles',\n",
       " 'charting',\n",
       " 'cheaper',\n",
       " 'cheeger',\n",
       " 'chemical',\n",
       " 'chemosensory',\n",
       " 'chemotaxis',\n",
       " 'chemotopic',\n",
       " 'chernoff',\n",
       " 'chervonenkis',\n",
       " 'chess',\n",
       " 'chi',\n",
       " 'chick',\n",
       " 'children',\n",
       " 'chimeric',\n",
       " 'chinese',\n",
       " 'chip',\n",
       " 'chips',\n",
       " 'chir',\n",
       " 'choice',\n",
       " 'choices',\n",
       " 'cholinergic',\n",
       " 'choose',\n",
       " 'choosing',\n",
       " 'chopping',\n",
       " 'chorale',\n",
       " 'chorales',\n",
       " 'chordal',\n",
       " 'chosen',\n",
       " 'chromatic',\n",
       " 'chromaticity',\n",
       " 'chromatin',\n",
       " 'chunker',\n",
       " 'churn',\n",
       " 'circles',\n",
       " 'circuit',\n",
       " 'circuitry',\n",
       " 'circuits',\n",
       " 'citation',\n",
       " 'citcuits',\n",
       " 'clamping',\n",
       " 'clapping',\n",
       " 'class',\n",
       " 'classes',\n",
       " 'classic',\n",
       " 'classical',\n",
       " 'classifers',\n",
       " 'classiffication',\n",
       " 'classifiability',\n",
       " 'classification',\n",
       " 'classifier',\n",
       " 'classifiers',\n",
       " 'classify',\n",
       " 'classifying',\n",
       " 'clean',\n",
       " 'clicks',\n",
       " 'climate',\n",
       " 'climbing',\n",
       " 'clinical',\n",
       " 'clipped',\n",
       " 'clipping',\n",
       " 'clique',\n",
       " 'cliquecnn',\n",
       " 'cliques',\n",
       " 'clone',\n",
       " 'closed',\n",
       " 'closeness',\n",
       " 'closing',\n",
       " 'closure',\n",
       " 'cloud',\n",
       " 'clouds',\n",
       " 'cluster',\n",
       " 'clustered',\n",
       " 'clustering',\n",
       " 'clusteron',\n",
       " 'clusters',\n",
       " 'clutter',\n",
       " 'cluttered',\n",
       " 'cm',\n",
       " 'cma',\n",
       " 'cmac',\n",
       " 'cmol',\n",
       " 'cmos',\n",
       " 'cmu',\n",
       " 'cnaps',\n",
       " 'cnn',\n",
       " 'cnnpack',\n",
       " 'cnns',\n",
       " 'coaching',\n",
       " 'coagent',\n",
       " 'coagulation',\n",
       " 'coalescent',\n",
       " 'coalescents',\n",
       " 'coarse',\n",
       " 'coarsely',\n",
       " 'coarticulation',\n",
       " 'coastal',\n",
       " 'cobot',\n",
       " 'cochlea',\n",
       " 'cochlear',\n",
       " 'cockroach',\n",
       " 'cocktail',\n",
       " 'cocktails',\n",
       " 'code',\n",
       " 'codebooks',\n",
       " 'coded',\n",
       " 'codes',\n",
       " 'coding',\n",
       " 'coefficient',\n",
       " 'coefficients',\n",
       " 'coevolutionary',\n",
       " 'coevolve',\n",
       " 'coexpression',\n",
       " 'cofi',\n",
       " 'cognition',\n",
       " 'cognitive',\n",
       " 'coherence',\n",
       " 'coherency',\n",
       " 'coherent',\n",
       " 'coherently',\n",
       " 'coin',\n",
       " 'coincidence',\n",
       " 'cold',\n",
       " 'collaborative',\n",
       " 'collaboratively',\n",
       " 'collapse',\n",
       " 'collapsed',\n",
       " 'collapsing',\n",
       " 'collecting',\n",
       " 'collection',\n",
       " 'collections',\n",
       " 'collective',\n",
       " 'collide',\n",
       " 'collision',\n",
       " 'color',\n",
       " 'colored',\n",
       " 'coloring',\n",
       " 'colour',\n",
       " 'coloured',\n",
       " 'column',\n",
       " 'columns',\n",
       " 'combination',\n",
       " 'combinations',\n",
       " 'combinatorial',\n",
       " 'combinatorially',\n",
       " 'combine',\n",
       " 'combined',\n",
       " 'combining',\n",
       " 'commands',\n",
       " 'commit',\n",
       " 'commitment',\n",
       " 'committee',\n",
       " 'committees',\n",
       " 'committing',\n",
       " 'commodity',\n",
       " 'common',\n",
       " 'communicate',\n",
       " 'communication',\n",
       " 'communications',\n",
       " 'communities',\n",
       " 'community',\n",
       " 'compact',\n",
       " 'compactly',\n",
       " 'comparative',\n",
       " 'compared',\n",
       " 'comparing',\n",
       " 'comparison',\n",
       " 'comparisons',\n",
       " 'compartment',\n",
       " 'compartmentalization',\n",
       " 'compatible',\n",
       " 'compensating',\n",
       " 'compensation',\n",
       " 'compete',\n",
       " 'competence',\n",
       " 'competing',\n",
       " 'competition',\n",
       " 'competitive',\n",
       " 'compilation',\n",
       " 'compiler',\n",
       " 'complementarity',\n",
       " 'complementary',\n",
       " 'complementing',\n",
       " 'complete',\n",
       " 'completely',\n",
       " 'completeness',\n",
       " 'completion',\n",
       " 'complex',\n",
       " 'complexities',\n",
       " 'complexity',\n",
       " 'complications',\n",
       " 'component',\n",
       " 'componential',\n",
       " 'components',\n",
       " 'compose',\n",
       " 'composing',\n",
       " 'composite',\n",
       " 'composites',\n",
       " 'composition',\n",
       " 'compositional',\n",
       " 'compositionality',\n",
       " 'compositions',\n",
       " 'compound',\n",
       " 'comprehend',\n",
       " 'comprehensive',\n",
       " 'compressed',\n",
       " 'compressible',\n",
       " 'compression',\n",
       " 'compressive',\n",
       " 'computation',\n",
       " 'computational',\n",
       " 'computationally',\n",
       " 'computations',\n",
       " 'compute',\n",
       " 'computer',\n",
       " 'computers',\n",
       " 'computing',\n",
       " 'concatenative',\n",
       " 'concave',\n",
       " 'concavely',\n",
       " 'concavity',\n",
       " 'concentration',\n",
       " 'concentrator',\n",
       " 'concept',\n",
       " 'concepts',\n",
       " 'conceptual',\n",
       " 'concerning',\n",
       " 'concordance',\n",
       " 'concrete',\n",
       " 'concurrency',\n",
       " 'concurrent',\n",
       " 'condensation',\n",
       " 'condition',\n",
       " 'conditional',\n",
       " 'conditionally',\n",
       " 'conditioned',\n",
       " 'conditioning',\n",
       " 'conditions',\n",
       " 'condorcet',\n",
       " 'conductances',\n",
       " 'cone',\n",
       " 'cones',\n",
       " 'confidence',\n",
       " 'confidently',\n",
       " 'configurable',\n",
       " 'configuration',\n",
       " 'configurations',\n",
       " 'conflict',\n",
       " 'conflicting',\n",
       " 'conflicts',\n",
       " 'confounders',\n",
       " 'confusion',\n",
       " 'confusions',\n",
       " 'congestion',\n",
       " 'congruence',\n",
       " 'congruent',\n",
       " 'conic',\n",
       " 'conical',\n",
       " 'conjoint',\n",
       " 'conjugate',\n",
       " 'conjugates',\n",
       " 'conjunctions',\n",
       " 'conjunctive',\n",
       " 'connected',\n",
       " 'connecting',\n",
       " 'connection',\n",
       " 'connectionism',\n",
       " 'connectionist',\n",
       " 'connections',\n",
       " 'connectivities',\n",
       " 'connectivity',\n",
       " 'connectomics',\n",
       " 'conquer',\n",
       " 'consciousness',\n",
       " 'consensus',\n",
       " 'consequences',\n",
       " 'consequential',\n",
       " 'conservative',\n",
       " 'consistency',\n",
       " 'consistent',\n",
       " 'consolidation',\n",
       " ...]"
      ]
     },
     "execution_count": 209,
     "metadata": {},
     "output_type": "execute_result"
    }
   ],
   "source": [
    " count_vectorizer.get_feature_names()"
   ]
  },
  {
   "cell_type": "code",
   "execution_count": 183,
   "metadata": {},
   "outputs": [
    {
     "data": {
      "text/plain": [
       "(5422,)"
      ]
     },
     "execution_count": 183,
     "metadata": {},
     "output_type": "execute_result"
    }
   ],
   "source": [
    "\n",
    "words = count_vectorizer.get_feature_names() #a list of words in titles\n",
    "total_counts = np.zeros(len(words))\n",
    "total_counts.shape"
   ]
  },
  {
   "cell_type": "code",
   "execution_count": 176,
   "metadata": {},
   "outputs": [
    {
     "data": {
      "text/plain": [
       "<7241x5422 sparse matrix of type '<class 'numpy.int64'>'\n",
       "\twith 44546 stored elements in Compressed Sparse Row format>"
      ]
     },
     "execution_count": 176,
     "metadata": {},
     "output_type": "execute_result"
    }
   ],
   "source": [
    "count_data"
   ]
  },
  {
   "cell_type": "code",
   "execution_count": 189,
   "metadata": {},
   "outputs": [
    {
     "data": {
      "text/plain": [
       "(5422,)"
      ]
     },
     "execution_count": 189,
     "metadata": {},
     "output_type": "execute_result"
    }
   ],
   "source": [
    "t.toarray()[0].shape"
   ]
  },
  {
   "cell_type": "code",
   "execution_count": 190,
   "metadata": {},
   "outputs": [
    {
     "data": {
      "text/plain": [
       "(5422,)"
      ]
     },
     "execution_count": 190,
     "metadata": {},
     "output_type": "execute_result"
    }
   ],
   "source": [
    "total_counts.shape"
   ]
  },
  {
   "cell_type": "code",
   "execution_count": 193,
   "metadata": {},
   "outputs": [
    {
     "data": {
      "text/plain": [
       "5422"
      ]
     },
     "execution_count": 193,
     "metadata": {},
     "output_type": "execute_result"
    }
   ],
   "source": [
    "x_pos = np.arange(len(words)) \n",
    "x_pos\n",
    "len(words)"
   ]
  },
  {
   "cell_type": "code",
   "execution_count": 194,
   "metadata": {
    "dc": {
     "key": "39"
    },
    "tags": [
     "sample_code"
    ]
   },
   "outputs": [
    {
     "data": {
      "image/png": "[encoded data removed]",
      "text/plain": [
       "<Figure size 432x288 with 1 Axes>"
      ]
     },
     "metadata": {
      "needs_background": "light"
     },
     "output_type": "display_data"
    }
   ],
   "source": [
    "# Load the library with the CountVectorizer method\n",
    "from sklearn.feature_extraction.text import CountVectorizer\n",
    "import numpy as np\n",
    "\n",
    "\n",
    "#row: titles , col: unique words\n",
    "# Helper function\n",
    "def plot_10_most_common_words(count_data, count_vectorizer):\n",
    "    import matplotlib.pyplot as plt\n",
    "    words = count_vectorizer.get_feature_names() #a list of words in titles\n",
    "    total_counts = np.zeros(len(words)) # total_counts is an array (like words) but each values in the array are filled with the frequency of each word appearing in the entire documents.\n",
    "    for t in count_data:\n",
    "        total_counts+=t.toarray()[0]  # by adding [0], we are changing from 2D to 1D array. \n",
    "        # a sparse matrix or sparse array is a matrix in which most of the elements are zero.\n",
    "        # typically stored as a two-dimensional array. \n",
    "        # += means adding the row on top on the preivous row (1D array). whereas, append means adding a new row below the previous row.\n",
    "        \n",
    "    count_dict = (zip(words, total_counts))  # combine two lists (words & total_counts) and make them into a dictionary.\n",
    "    count_dict = sorted(count_dict, key=lambda x:x[1], reverse=True)[0:10] #x[1] == total_counts \n",
    "                    #sort the dictionary by descending order, and only print 10 top counts.\n",
    "    words = [w[0] for w in count_dict] #words \n",
    "    counts = [w[1] for w in count_dict] #total_counts \n",
    "    x_pos = np.arange(len(words)) #--> this gives an array of position values of each word \n",
    "                                #(NB: dont get confused with total_counts; total_counts shows the number of COUNTS/FREQUENCIES of each words)\n",
    "\n",
    "    plt.bar(words, counts,align='center')\n",
    "    plt.xticks(x_pos, words, rotation=90)  #x_pos: label locations, #words: text labels\n",
    "                                            #all this work (using numpy arange) to get x_pos was to use \"rotation=90\" for labelling x-axis words clearly/more visually understandable.\n",
    "    plt.xlabel('words')\n",
    "    plt.ylabel('counts')\n",
    "    plt.title('10 most common words')\n",
    "    plt.show()\n",
    "\n",
    "# Initialise the count vectorizer with the English stopwords\n",
    "count_vectorizer = CountVectorizer(stop_words='english')\n",
    "\n",
    "# Fit and transform the processed titles\n",
    "count_data = count_vectorizer.fit_transform(papers['title_processed']) \n",
    "# 2D sparse matrix; cols represent the (unique) words appearing in the titles, y-axis represent topics/indexes of titles. \n",
    "\n",
    "# Visualise the 10 most common words\n",
    "plot_10_most_common_words(count_data, count_vectorizer)"
   ]
  },
  {
   "cell_type": "code",
   "execution_count": 99,
   "metadata": {},
   "outputs": [
    {
     "name": "stdout",
     "output_type": "stream",
     "text": [
      "(5422,)\n",
      "(1, 5422)\n",
      "[0 0 0 ... 0 0 0]\n",
      "[[0 0 0 ... 0 0 0]]\n"
     ]
    }
   ],
   "source": [
    "### Note to self: Important - don't forget the diff between 1D and 2D arrays. \n",
    "\n",
    "t = count_data[0]\n",
    "print(t.toarray()[0].shape) #2D array\n",
    "print(t.toarray().shape)    #1D array\n",
    "\n",
    "print(t.toarray()[0])\n",
    "print(t.toarray())"
   ]
  },
  {
   "cell_type": "code",
   "execution_count": 156,
   "metadata": {},
   "outputs": [
    {
     "data": {
      "text/plain": [
       "array([0, 0, 0, ..., 0, 0, 0])"
      ]
     },
     "execution_count": 156,
     "metadata": {},
     "output_type": "execute_result"
    }
   ],
   "source": [
    "t.toarray()[0]"
   ]
  },
  {
   "cell_type": "code",
   "execution_count": 150,
   "metadata": {},
   "outputs": [
    {
     "data": {
      "text/plain": [
       "<1x5422 sparse matrix of type '<class 'numpy.int64'>'\n",
       "\twith 5 stored elements in Compressed Sparse Row format>"
      ]
     },
     "execution_count": 150,
     "metadata": {},
     "output_type": "execute_result"
    }
   ],
   "source": [
    "count_data[0]"
   ]
  },
  {
   "cell_type": "code",
   "execution_count": 197,
   "metadata": {},
   "outputs": [
    {
     "data": {
      "text/plain": [
       "array([0, 1, 2, 3])"
      ]
     },
     "execution_count": 197,
     "metadata": {},
     "output_type": "execute_result"
    }
   ],
   "source": [
    "\n",
    "'''\n",
    "#self practice\n",
    "word = ['pineapple', 'orange', 'grape', 'strawberry']\n",
    "x_word= np.arange(len(word))\n",
    "\n",
    "x_word\n",
    "'''"
   ]
  },
  {
   "cell_type": "markdown",
   "metadata": {
    "dc": {
     "key": "46"
    },
    "deletable": false,
    "editable": false,
    "run_control": {
     "frozen": true
    },
    "tags": [
     "context"
    ]
   },
   "source": [
    "## 7. Analysing trends with LDA\n",
    "<p>Finally, the research titles will be analyzed using LDA. Note that in order to process a new set of documents (e.g. news articles), a similar set of steps will be required to preprocess the data. The flow that was constructed here can thus easily be exported for a new text dataset.</p>\n",
    "<p>The only parameter we will tweak is the number of topics in the LDA algorithm. Typically, one would calculate the 'perplexity' metric to determine which number of topics is best and iterate over different amounts of topics until the lowest 'perplexity' is found. For now, let's play around with a different number of topics. From there, we can distinguish what each topic is about ('neural networks', 'reinforcement learning', 'kernel methods', 'gaussian processes', etc.).</p>"
   ]
  },
  {
   "cell_type": "code",
   "execution_count": 75,
   "metadata": {},
   "outputs": [
    {
     "data": {
      "text/html": [
       "<style>#sk-container-id-3 {color: black;background-color: white;}#sk-container-id-3 pre{padding: 0;}#sk-container-id-3 div.sk-toggleable {background-color: white;}#sk-container-id-3 label.sk-toggleable__label {cursor: pointer;display: block;width: 100%;margin-bottom: 0;padding: 0.3em;box-sizing: border-box;text-align: center;}#sk-container-id-3 label.sk-toggleable__label-arrow:before {content: \"▸\";float: left;margin-right: 0.25em;color: #696969;}#sk-container-id-3 label.sk-toggleable__label-arrow:hover:before {color: black;}#sk-container-id-3 div.sk-estimator:hover label.sk-toggleable__label-arrow:before {color: black;}#sk-container-id-3 div.sk-toggleable__content {max-height: 0;max-width: 0;overflow: hidden;text-align: left;background-color: #f0f8ff;}#sk-container-id-3 div.sk-toggleable__content pre {margin: 0.2em;color: black;border-radius: 0.25em;background-color: #f0f8ff;}#sk-container-id-3 input.sk-toggleable__control:checked~div.sk-toggleable__content {max-height: 200px;max-width: 100%;overflow: auto;}#sk-container-id-3 input.sk-toggleable__control:checked~label.sk-toggleable__label-arrow:before {content: \"▾\";}#sk-container-id-3 div.sk-estimator input.sk-toggleable__control:checked~label.sk-toggleable__label {background-color: #d4ebff;}#sk-container-id-3 div.sk-label input.sk-toggleable__control:checked~label.sk-toggleable__label {background-color: #d4ebff;}#sk-container-id-3 input.sk-hidden--visually {border: 0;clip: rect(1px 1px 1px 1px);clip: rect(1px, 1px, 1px, 1px);height: 1px;margin: -1px;overflow: hidden;padding: 0;position: absolute;width: 1px;}#sk-container-id-3 div.sk-estimator {font-family: monospace;background-color: #f0f8ff;border: 1px dotted black;border-radius: 0.25em;box-sizing: border-box;margin-bottom: 0.5em;}#sk-container-id-3 div.sk-estimator:hover {background-color: #d4ebff;}#sk-container-id-3 div.sk-parallel-item::after {content: \"\";width: 100%;border-bottom: 1px solid gray;flex-grow: 1;}#sk-container-id-3 div.sk-label:hover label.sk-toggleable__label {background-color: #d4ebff;}#sk-container-id-3 div.sk-serial::before {content: \"\";position: absolute;border-left: 1px solid gray;box-sizing: border-box;top: 0;bottom: 0;left: 50%;z-index: 0;}#sk-container-id-3 div.sk-serial {display: flex;flex-direction: column;align-items: center;background-color: white;padding-right: 0.2em;padding-left: 0.2em;position: relative;}#sk-container-id-3 div.sk-item {position: relative;z-index: 1;}#sk-container-id-3 div.sk-parallel {display: flex;align-items: stretch;justify-content: center;background-color: white;position: relative;}#sk-container-id-3 div.sk-item::before, #sk-container-id-3 div.sk-parallel-item::before {content: \"\";position: absolute;border-left: 1px solid gray;box-sizing: border-box;top: 0;bottom: 0;left: 50%;z-index: -1;}#sk-container-id-3 div.sk-parallel-item {display: flex;flex-direction: column;z-index: 1;position: relative;background-color: white;}#sk-container-id-3 div.sk-parallel-item:first-child::after {align-self: flex-end;width: 50%;}#sk-container-id-3 div.sk-parallel-item:last-child::after {align-self: flex-start;width: 50%;}#sk-container-id-3 div.sk-parallel-item:only-child::after {width: 0;}#sk-container-id-3 div.sk-dashed-wrapped {border: 1px dashed gray;margin: 0 0.4em 0.5em 0.4em;box-sizing: border-box;padding-bottom: 0.4em;background-color: white;}#sk-container-id-3 div.sk-label label {font-family: monospace;font-weight: bold;display: inline-block;line-height: 1.2em;}#sk-container-id-3 div.sk-label-container {text-align: center;}#sk-container-id-3 div.sk-container {/* jupyter's `normalize.less` sets `[hidden] { display: none; }` but bootstrap.min.css set `[hidden] { display: none !important; }` so we also need the `!important` here to be able to override the default hidden behavior on the sphinx rendered scikit-learn.org. See: https://github.com/scikit-learn/scikit-learn/issues/21755 */display: inline-block !important;position: relative;}#sk-container-id-3 div.sk-text-repr-fallback {display: none;}</style><div id=\"sk-container-id-3\" class=\"sk-top-container\"><div class=\"sk-text-repr-fallback\"><pre>LatentDirichletAllocation()</pre><b>In a Jupyter environment, please rerun this cell to show the HTML representation or trust the notebook. <br />On GitHub, the HTML representation is unable to render, please try loading this page with nbviewer.org.</b></div><div class=\"sk-container\" hidden><div class=\"sk-item\"><div class=\"sk-estimator sk-toggleable\"><input class=\"sk-toggleable__control sk-hidden--visually\" id=\"sk-estimator-id-3\" type=\"checkbox\" checked><label for=\"sk-estimator-id-3\" class=\"sk-toggleable__label sk-toggleable__label-arrow\">LatentDirichletAllocation</label><div class=\"sk-toggleable__content\"><pre>LatentDirichletAllocation()</pre></div></div></div></div></div>"
      ],
      "text/plain": [
       "LatentDirichletAllocation()"
      ]
     },
     "execution_count": 75,
     "metadata": {},
     "output_type": "execute_result"
    }
   ],
   "source": [
    "# Tweak the two parameters below (use int values below 15)\n",
    "number_topics = 10\n",
    "number_words = 10 \n",
    "\n",
    "\n",
    "# Create and fit the LDA model\n",
    "lda = LDA(n_components=number_topics)\n",
    "lda.fit(count_data)"
   ]
  },
  {
   "cell_type": "markdown",
   "metadata": {},
   "source": [
    "LDA: In natural language processing, latent Dirichlet allocation (LDA) is a “generative statistical model” that allows sets of observations to be explained by unobserved groups that explain why some parts of the data are similar. So this is categorized as unsupervised learning."
   ]
  },
  {
   "cell_type": "code",
   "execution_count": 78,
   "metadata": {},
   "outputs": [
    {
     "data": {
      "text/plain": [
       "(10, 5422)"
      ]
     },
     "execution_count": 78,
     "metadata": {},
     "output_type": "execute_result"
    }
   ],
   "source": [
    "lda.components_.shape #stores a matrix containing the word importance (5422) for each of the 10 topics in increasing order."
   ]
  },
  {
   "cell_type": "code",
   "execution_count": 64,
   "metadata": {},
   "outputs": [],
   "source": [
    "for topic_idx, topic in enumerate(lda.components_):\n",
    "    break"
   ]
  },
  {
   "cell_type": "code",
   "execution_count": 127,
   "metadata": {
    "dc": {
     "key": "46"
    },
    "tags": [
     "sample_code"
    ]
   },
   "outputs": [
    {
     "name": "stdout",
     "output_type": "stream",
     "text": [
      "Topics found via LDA:\n",
      "\n",
      "Topic #0:\n",
      "neural networks network recurrent time learning training recognition using decision model\n",
      "\n",
      "Topic #1:\n",
      "model markov hidden clustering analysis models using human bayesian hierarchical modeling\n",
      "\n",
      "Topic #2:\n",
      "sampling analysis carlo monte model visual generative policy models search learning\n",
      "\n",
      "Topic #3:\n",
      "learning reinforcement linear gradient based non stochastic descent algorithm analog convergence\n",
      "\n",
      "Topic #4:\n",
      "models gaussian inference learning process bayesian variational processes graphical regression latent\n",
      "\n",
      "Topic #5:\n",
      "optimal information neural propagation learning image using neurons optimization brain near\n",
      "\n",
      "Topic #6:\n",
      "learning supervised semi order data memory using models graph structure representations\n",
      "\n",
      "Topic #7:\n",
      "networks bounds matrix learning dynamic sparse optimization continuous rank approximate convex\n",
      "\n",
      "Topic #8:\n",
      "learning data margin submodular algorithms functions robust large sample image bayesian\n",
      "\n",
      "Topic #9:\n",
      "learning classification kernel multi using vector detection large feature multiple machines\n"
     ]
    },
    {
     "name": "stderr",
     "output_type": "stream",
     "text": [
      "/Users/user/opt/anaconda3/envs/env_new/lib/python3.8/site-packages/sklearn/utils/deprecation.py:87: FutureWarning: Function get_feature_names is deprecated; get_feature_names is deprecated in 1.0 and will be removed in 1.2. Please use get_feature_names_out instead.\n",
      "  warnings.warn(msg, category=FutureWarning)\n"
     ]
    }
   ],
   "source": [
    "import warnings\n",
    "warnings.simplefilter(\"ignore\", DeprecationWarning)\n",
    "\n",
    "# Load the LDA model from sk-learn\n",
    "from sklearn.decomposition import LatentDirichletAllocation as LDA\n",
    " \n",
    "# Helper function\n",
    "def print_topics(model, count_vectorizer, n_top_words):\n",
    "    words = count_vectorizer.get_feature_names()\n",
    "    for topic_idx, topic in enumerate(model.components_):\n",
    "        print(\"\\nTopic #%d:\" % topic_idx)\n",
    "        print(\" \".join([words[i]\n",
    "                        for i in topic.argsort()[:-n_top_words - 1:-1]])) ###################\n",
    "        \n",
    "# Tweak the two parameters below (use int values below 15)\n",
    "number_topics = 10\n",
    "number_words = 10\n",
    "\n",
    "# Create and fit the LDA model\n",
    "lda = LDA(n_components=number_topics)\n",
    "lda.fit(count_data)\n",
    "\n",
    "# Print the topics found by the LDA model\n",
    "print(\"Topics found via LDA:\")\n",
    "print_topics(lda, count_vectorizer, number_words)\n"
   ]
  },
  {
   "cell_type": "code",
   "execution_count": 205,
   "metadata": {},
   "outputs": [
    {
     "data": {
      "text/plain": [
       "array([99, 98, 97, 96, 95, 94, 93, 92, 91, 90])"
      ]
     },
     "execution_count": 205,
     "metadata": {},
     "output_type": "execute_result"
    }
   ],
   "source": [
    "array = np.arange(100)\n",
    "array[:-11:-1] #10-top words #0에서 10까지  "
   ]
  },
  {
   "cell_type": "markdown",
   "metadata": {
    "dc": {
     "key": "53"
    },
    "deletable": false,
    "editable": false,
    "run_control": {
     "frozen": true
    },
    "tags": [
     "context"
    ]
   },
   "source": [
    "## 8. The future of machine learning\n",
    "<p>Machine learning has become increasingly popular over the past years. The number of NIPS conference papers has risen exponentially, and people are continuously looking for ways on how they can incorporate machine learning into their products and services.</p>\n",
    "<p>Although this analysis focused on analyzing machine learning trends in research, a lot of these techniques are rapidly being adopted in industry. Following the latest machine learning trends is a critical skill for a data scientist, and it is recommended to continuously keep learning by going through blogs, tutorials, and courses.</p>"
   ]
  },
  {
   "cell_type": "code",
   "execution_count": 0,
   "metadata": {
    "dc": {
     "key": "53"
    },
    "tags": [
     "sample_code"
    ]
   },
   "outputs": [],
   "source": [
    "# The historical data indicates that:\n",
    "more_papers_published_in_2018 = True"
   ]
  }
 ],
 "metadata": {
  "kernelspec": {
   "display_name": "Python 3 (ipykernel)",
   "language": "python",
   "name": "python3"
  },
  "language_info": {
   "codemirror_mode": {
    "name": "ipython",
    "version": 3
   },
   "file_extension": ".py",
   "mimetype": "text/x-python",
   "name": "python",
   "nbconvert_exporter": "python",
   "pygments_lexer": "ipython3",
   "version": "3.8.5"
  }
 },
 "nbformat": 4,
 "nbformat_minor": 2
}
